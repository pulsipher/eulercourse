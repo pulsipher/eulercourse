{
 "cells": [
  {
   "attachments": {},
   "cell_type": "markdown",
   "metadata": {},
   "source": [
    "# Basic Syntax of Julia\n",
    "Here we briefly review Julia basic syntax."
   ]
  },
  {
   "cell_type": "code",
   "execution_count": 3,
   "metadata": {},
   "outputs": [
    {
     "data": {
      "text/plain": [
       "3×2 Matrix{Int64}:\n",
       "  1  81\n",
       "  9  16\n",
       " 25  36"
      ]
     },
     "metadata": {},
     "output_type": "display_data"
    }
   ],
   "source": [
    "# One line function\n",
    "f(x) = x^2 + 3 / 2 + exp(x)\n",
    "f1 = f(1)\n",
    "\n",
    "# Multiline function and if-statements\n",
    "function example(x)\n",
    "    if x < 3\n",
    "        return 2\n",
    "    else\n",
    "        return 1\n",
    "    end\n",
    "end\n",
    "\n",
    "# Arrays (indexed starting with 1 not 0) --> syntax like MATLAB\n",
    "x = [4, 5] # vector\n",
    "A = [1 2; 3 4; 5 6] # matrix\n",
    "\n",
    "# Access Arrays\n",
    "x2 = x[2]\n",
    "A32 = A[3, 2]\n",
    "Arow = A[1, :] # the first row\n",
    "Acol = A[:, 2] # the 2nd column\n",
    "\n",
    "# Set array values\n",
    "x[1] = 42\n",
    "A[1,2] = -9\n",
    "A[2, :] = [3, 4]\n",
    "\n",
    "# for loops\n",
    "y = zeros(3)\n",
    "for i in 1:3\n",
    "    y[i] = A[i, 1] * x[1] + A[i, 2] * x[2]\n",
    "end\n",
    "\n",
    "# Linear Algebra\n",
    "At = A' # transpose\n",
    "y = A * x # matrix multiplication\n",
    "z = 2 * x + x # scalar multiplication and vector addition\n",
    "\n",
    "# Elementwise operations (like MATLAB)\n",
    "fofx = f.(x) # call f on each element of x\n",
    "Aextra = A .+ 1 # add one to each element of A\n",
    "A2 = A .* A # multiply elementwise\n",
    "\n",
    "\n"
   ]
  }
 ],
 "metadata": {
  "kernelspec": {
   "display_name": "Julia 1.7.1",
   "language": "julia",
   "name": "julia-1.7"
  },
  "language_info": {
   "file_extension": ".jl",
   "mimetype": "application/julia",
   "name": "julia",
   "version": "1.7.1"
  },
  "orig_nbformat": 4,
  "vscode": {
   "interpreter": {
    "hash": "8d689450f2d38e0e8f630e8a92d7c9c51deb0f64dc8e967a759d71fbd476c3a7"
   }
  }
 },
 "nbformat": 4,
 "nbformat_minor": 2
}
