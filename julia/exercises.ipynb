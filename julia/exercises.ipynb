{
 "cells": [
  {
   "attachments": {},
   "cell_type": "markdown",
   "metadata": {},
   "source": [
    "# Introductory Numerical Methods for Simulating Dynamic Systems\n",
    "This notebook comprises the exercises we will use for this lecture. If you are not familiar with Julia syntax, please review `basics.ipynb` in the same folder as this file."
   ]
  },
  {
   "attachments": {},
   "cell_type": "markdown",
   "metadata": {},
   "source": [
    "## Preliminary Code\n",
    "The cell below defines helper functions to assist with the exercises. Please run this cell be before proceeding below to the exercises."
   ]
  },
  {
   "cell_type": "code",
   "execution_count": 90,
   "metadata": {},
   "outputs": [
    {
     "data": {
      "text/plain": [
       "plot_solution (generic function with 2 methods)"
      ]
     },
     "metadata": {},
     "output_type": "display_data"
    }
   ],
   "source": [
    "using Plots, NLsolve\n",
    "\n",
    "function plot_solution(ts, ys...; kwargs...)\n",
    "    error(\"Unexpected solution format for plotting, it should be `ts, y1, y2, ...` where each input is a vector.\")\n",
    "end\n",
    "\n",
    "function plot_solution(ts::Vector{<:Real}, ys::Vararg{Vector{<:Real}}; labels = nothing, marker_size = 3, kwargs...)\n",
    "    @assert length(ys) >= 1 \"Need to specify times and function values.\"\n",
    "    if labels isa Nothing\n",
    "        labels = (\"y$i(t)\" for i in 1:length(ys))\n",
    "    end\n",
    "    p = plot(ts, ys[1], marker = (:circle, marker_size), label = labels[1]; kwargs...)\n",
    "    xlabel!(\"time (t)\")\n",
    "    for i in 2:length(ys)\n",
    "        plot!(p, ts, ys[i], marker = (:circle, marker_size), label = labels[i])\n",
    "    end\n",
    "    return p\n",
    "end"
   ]
  },
  {
   "attachments": {},
   "cell_type": "markdown",
   "metadata": {},
   "source": [
    "## Exercise 1: Simple ODE Simulation via Explicit Euler\n",
    "Solve the following ODE:\n",
    "$$\\begin{gathered}\n",
    "\\frac{d y(t)}{dt} = e^{-t} \\\\\n",
    "y(0) = -1\n",
    "\\end{gathered}$$\n",
    "for $t \\in [0, 1]$ using $\\Delta t=0.1$. Plot your result against the analytical solution (you also need to determine this).\n",
    "\n",
    "Recall that the update rule for explicit Euler is:\n",
    "$$\\tilde{y}(t_{k+1}) = \\tilde{y}(t_k) + f(y(t_k), t_k) \\Delta t$$"
   ]
  },
  {
   "attachments": {},
   "cell_type": "markdown",
   "metadata": {},
   "source": [
    "### Plot the Analytical Solution\n",
    "First, let's determine the analytical solution and plot it."
   ]
  },
  {
   "cell_type": "code",
   "execution_count": null,
   "metadata": {},
   "outputs": [],
   "source": [
    "# Define parameters\n",
    "Δt = 0.1\n",
    "ts = collect(0:Δt:1)\n",
    "\n",
    "# Declare the mathematical function of y(t)\n",
    "y(t) = # TODO put RHS here\n",
    "\n",
    "# Plot the result\n",
    "plot_solution(ts, y.(ts); labels = (\"Exact\",), ylabel=\"y(t)\")"
   ]
  },
  {
   "attachments": {},
   "cell_type": "markdown",
   "metadata": {},
   "source": [
    "### Compute the Approximate Solution using Explicit Euler\n",
    "Now that let's compute the approximate solution using Euler's method. "
   ]
  },
  {
   "cell_type": "code",
   "execution_count": null,
   "metadata": {},
   "outputs": [],
   "source": [
    "# Define parameters\n",
    "y0 = -1\n",
    "Δt = 0.1 # TODO try changing this\n",
    "ts = collect(0:Δt:1)\n",
    "num_steps = length(ts) - 1\n",
    "\n",
    "# Define storage vector for y(t)\n",
    "y_euler = zeros(length(ts))\n",
    "\n",
    "# Fill in y_euler using explicit Euler\n",
    "# TODO implement here\n",
    "\n",
    "# Plot the results\n",
    "plot_solution(ts, y.(ts), y_euler; labels = (\"Exact\", \"Explicit Euler\"), ylabel=\"y(t)\")"
   ]
  },
  {
   "attachments": {},
   "cell_type": "markdown",
   "metadata": {},
   "source": [
    "## Exercise 2: Simulate Coupled ODEs\n",
    "Simulate the following system of ODEs:\n",
    "$$\\begin{gathered}\n",
    "\\frac{d x(t)}{dt} = -5x(t) + 5y(t) \\\\\n",
    "\\frac{d y(t)}{dt} = 14x(t) - 2y(t) \\\\\n",
    "x(0)=y(0)=1 \n",
    "\\end{gathered}$$\n",
    "for $t \\in [0, 1]$ with $\\Delta t = 0.1$. "
   ]
  },
  {
   "cell_type": "code",
   "execution_count": null,
   "metadata": {},
   "outputs": [],
   "source": [
    "# Define parameters\n",
    "x0 = 1\n",
    "y0 = 1\n",
    "Δt = 0.01\n",
    "ts = collect(0:Δt:1)\n",
    "num_steps = length(ts) - 1\n",
    "\n",
    "# Define storage vectors for x(t) and y(t)\n",
    "x_euler = zeros(length(ts))\n",
    "y_euler = zeros(length(ts))\n",
    "\n",
    "# Approximate x(t) and y(t) using explicit euler and fill in the storage vectors\n",
    "# TODO implement here\n",
    "\n",
    "# Plot the results\n",
    "plot_solution(ts, x_euler, y_euler; labels = (\"x(t)\", \"y(t)\"))"
   ]
  },
  {
   "attachments": {},
   "cell_type": "markdown",
   "metadata": {},
   "source": [
    "### Exercise 3: Stability of Explicit Euler\n",
    "Simulate the following:\n",
    "$$\\begin{gathered}\n",
    "\\frac{d y(t)}{dt} = -20y(t) \\\\\n",
    "y(0) = 1\n",
    "\\end{gathered}$$\n",
    "for $t \\in [0, 1]$ with $\\Delta t = 0.1$. Let's compare with the analytical solution as well."
   ]
  },
  {
   "cell_type": "code",
   "execution_count": null,
   "metadata": {},
   "outputs": [],
   "source": [
    "# Define parameters\n",
    "y0 = 1\n",
    "Δt = 0.1\n",
    "ts = collect(0:Δt:1)\n",
    "num_steps = length(ts) - 1\n",
    "\n",
    "# Define storage vectors for y(t)\n",
    "y_euler = zeros(length(ts))\n",
    "\n",
    "# Define the mathematical function for y(t) (i.e., the analytical solution)\n",
    "y(t) = # TODO put RHS here\n",
    "\n",
    "# Do explicit euler and fill y_euler\n",
    "# TODO implement here\n",
    "\n",
    "# Plot the solution \n",
    "plot_solution(ts, y.(ts), y_euler; labels = (\"Exact\", \"Explicit Euler\"), ylabel=\"y(t)\")"
   ]
  },
  {
   "attachments": {},
   "cell_type": "markdown",
   "metadata": {},
   "source": [
    "### Exercise 4: Stability with Implicit Euler\n",
    "Redo Exercise 3 using implicit Euler.\n",
    "\n",
    "Here we will need to solve a nonlinear equation. For a general equation $g(y) = 0$ this can be accomplished in Julia via the syntax:\n",
    "```julia\n",
    "# Define residual function that populates a vector r (the resdiuals of each equation) and variables y \n",
    "function residual!(r, y)\n",
    "    r[1] = y[1]^2 # let g(y) = y^2\n",
    "end\n",
    "y_opt = nlsolve(residual!, [0.0], autodiff = :forward).zero[1] # here [0.0] is the initial guess\n",
    "```"
   ]
  },
  {
   "cell_type": "code",
   "execution_count": null,
   "metadata": {},
   "outputs": [],
   "source": [
    "# Define parameters\n",
    "y0 = 1\n",
    "Δt = 0.1\n",
    "ts = collect(0:Δt:1)\n",
    "num_steps = length(ts) - 1\n",
    "\n",
    "# Define storage vectors for y(t)\n",
    "y_euler = zeros(length(ts))\n",
    "\n",
    "# Define the mathematical function for y(t) (i.e., the analytical solution)\n",
    "y(t) = # TODO put RHS here\n",
    "\n",
    "# Do explicit euler and fill y_euler\n",
    "# TODO implement here\n",
    "\n",
    "# Plot the solution \n",
    "plot_solution(ts, y.(ts), y_euler; labels = (\"Exact\", \"Implicit Euler\"), ylabel=\"y(t)\")"
   ]
  },
  {
   "attachments": {},
   "cell_type": "markdown",
   "metadata": {},
   "source": [
    "## Exercise 5: Simulate a System of ODEs using Implicit Euler\n",
    "Repeat Exercise 4, but now use implicit Euler."
   ]
  },
  {
   "cell_type": "code",
   "execution_count": null,
   "metadata": {},
   "outputs": [],
   "source": [
    "# Define parameters\n",
    "x0 = 1\n",
    "y0 = 1\n",
    "Δt = 0.01\n",
    "ts = collect(0:Δt:1)\n",
    "num_steps = length(ts) - 1\n",
    "\n",
    "# Define storage vectors for x(t) and y(t)\n",
    "x_euler = zeros(length(ts))\n",
    "y_euler = zeros(length(ts))\n",
    "\n",
    "# Approximate x(t) and y(t) using explicit euler and fill in the storage vectors\n",
    "# TODO implement here\n",
    "\n",
    "# Plot the results\n",
    "plot_solution(ts, x_euler, y_euler; labels = (\"x(t)\", \"y(t)\"))"
   ]
  },
  {
   "attachments": {},
   "cell_type": "markdown",
   "metadata": {},
   "source": [
    "## Exercise 6: Simulate Reaction Network in Batch Reactor\n",
    "Simulate the response of the reaction system:\n",
    "$$\\begin{gathered}\n",
    "\\text{A} \\rightleftharpoons \\text{B} \\\\\n",
    "\\text{A} \\rightleftharpoons \\text{C}\n",
    "\\end{gathered}$$\n",
    "for $t \\in [0, 1]$ using implicit Euler. The ODEs are given by:\n",
    "$$\\begin{aligned}\n",
    "&\\frac{d \\textbf{c}(t)}{dt} = \\gamma \\textbf{r}(\\textbf{c}, t) \\\\\n",
    "&\\textbf{c}(0) = c_{i, 0}\n",
    "\\end{aligned}$$\n",
    "where we have:\n",
    "$$\\textbf{r}(\\textbf{c}, t) = \\textbf{k}^T(t)\\textbf{c}(t)$$\n",
    "and we have:\n",
    "$$k_{ij}(t) = A_{ij} \\exp\\Bigg(\\frac{-E_{a,ij}}{RT(t)}\\Bigg)$$\n",
    "The needed parameters are given below."
   ]
  },
  {
   "cell_type": "code",
   "execution_count": null,
   "metadata": {},
   "outputs": [],
   "source": [
    "# Define the parameters\n",
    "R = 1.987\n",
    "A = [3.6362e6 190.6879; -2.5212e16 0; 0 -8.7409e24]\n",
    "Ea = [10000. 5000.; 25000. 0.; 0. 40000.]\n",
    "γ = [-1 -1; 1 0; 0 1]\n",
    "c0 = [1.; 0.; 0.]\n",
    "T(t) = t < 0.5 ? 333 : 325\n",
    "Δt = 0.1 # TODO put value here\n",
    "ts = collect(0:Δt:1)\n",
    "num_steps = length(ts) - 1\n",
    "\n",
    "# Define collection array c_euler\n",
    "c_euler = zeros(length(ts), 3) # time by cs\n",
    "\n",
    "# Implement explicit Euler and fill c\n",
    "# TODO implement here\n",
    "\n",
    "#  Plot the solution\n",
    "plot_solution(ts, c_euler[:, 1], c_euler[:, 2], c_euler[:, 3]; labels = (\"c1(t)\", \"c2(t)\", \"c3(t)\"))"
   ]
  }
 ],
 "metadata": {
  "kernelspec": {
   "display_name": "Julia 1.7.1",
   "language": "julia",
   "name": "julia-1.7"
  },
  "language_info": {
   "file_extension": ".jl",
   "mimetype": "application/julia",
   "name": "julia",
   "version": "1.7.1"
  },
  "orig_nbformat": 4
 },
 "nbformat": 4,
 "nbformat_minor": 2
}
