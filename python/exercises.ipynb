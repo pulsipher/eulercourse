{
 "cells": [
  {
   "attachments": {},
   "cell_type": "markdown",
   "metadata": {},
   "source": [
    "# Introductory Numerical Methods for Simulating Dynamic Systems\n",
    "This notebook comprises the exercises we will use for this lecture. If you are not familiar with Python, consider using the Julia exercises instead which include a `basics.ipynb` file to get you up to speed."
   ]
  },
  {
   "attachments": {},
   "cell_type": "markdown",
   "metadata": {},
   "source": [
    "## Preliminary Code\n",
    "The cell below defines helper functions to assist with the exercises. Please run this cell be before proceeding below to the exercises."
   ]
  },
  {
   "cell_type": "code",
   "execution_count": null,
   "metadata": {},
   "outputs": [],
   "source": [
    "from matplotlib import pyplot as plt\n",
    "import numpy as np\n",
    "from scipy.optimize import fsolve\n",
    "\n",
    "def plot_solution(ts, *ys, labels = (), marker_size = 3):\n",
    "    if len(labels) == 0:\n",
    "        labels = (\"y\" + str(i) + \"(t)\" for i in range(1, len(ys)+1))\n",
    "    f = plt.figure()\n",
    "    plt.plot(ts, ys[0], marker = 'o', markersize = marker_size, label = labels[0])\n",
    "    plt.xlabel(\"time (t)\")\n",
    "    for i in range(1, len(ys)):\n",
    "        plt.plot(ts, ys[i], marker = 'o', markersize = marker_size, label = labels[i])\n",
    "    plt.legend(loc='best')\n",
    "    # return f"
   ]
  },
  {
   "attachments": {},
   "cell_type": "markdown",
   "metadata": {},
   "source": [
    "## Exercise 1: Simple ODE Simulation via Explicit Euler\n",
    "Solve the following ODE:\n",
    "$$\\begin{gathered}\n",
    "\\frac{d y(t)}{dt} = e^{-t} \\\\\n",
    "y(0) = -1\n",
    "\\end{gathered}$$\n",
    "for $t \\in [0, 1]$ using $\\Delta t=0.1$. Plot your result against the analytical solution (you also need to determine this).\n",
    "\n",
    "Recall that the update rule for explicit Euler is:\n",
    "$$\\tilde{y}(t_{k+1}) = \\tilde{y}(t_k) + f(y(t_k), t_k) \\Delta t$$"
   ]
  },
  {
   "attachments": {},
   "cell_type": "markdown",
   "metadata": {},
   "source": [
    "### Plot the Analytical Solution\n",
    "First, let's determine the analytical solution and plot it."
   ]
  },
  {
   "cell_type": "code",
   "execution_count": null,
   "metadata": {},
   "outputs": [],
   "source": [
    "# Define parameters\n",
    "dt = 0.1\n",
    "ts = np.arange(0, 1, dt)\n",
    "\n",
    "# Evaluate the analytical function for each t in ts\n",
    "ys = # TODO put analtyic function values here\n",
    "\n",
    "# Plot the result\n",
    "plot_solution(ts, ys, labels = (\"Exact\",))"
   ]
  },
  {
   "attachments": {},
   "cell_type": "markdown",
   "metadata": {},
   "source": [
    "### Compute the Approximate Solution using Explicit Euler\n",
    "Now that let's compute the approximate solution using Euler's method. "
   ]
  },
  {
   "cell_type": "code",
   "execution_count": null,
   "metadata": {},
   "outputs": [],
   "source": [
    "# Define parameters\n",
    "y0 = -1\n",
    "dt = 0.1 # TODO try changing this\n",
    "ts = np.arange(0, 1, dt)\n",
    "num_steps = len(ts) - 1\n",
    "\n",
    "# Define storage vector for y(t)\n",
    "y_euler = np.zeros(len(ts))\n",
    "\n",
    "# Fill in y_euler using explicit Euler\n",
    "# TODO  implement Euler method here\n",
    "\n",
    "# Plot the results\n",
    "plot_solution(ts, ys, y_euler, labels = (\"Exact\", \"Explicit Euler\"))"
   ]
  },
  {
   "attachments": {},
   "cell_type": "markdown",
   "metadata": {},
   "source": [
    "## Exercise 2: Simulate Coupled ODEs\n",
    "Simulate the following system of ODEs:\n",
    "$$\\begin{gathered}\n",
    "\\frac{d x(t)}{dt} = -5x(t) + 5y(t) \\\\\n",
    "\\frac{d y(t)}{dt} = 14x(t) - 2y(t) \\\\\n",
    "x(0)=y(0)=1 \n",
    "\\end{gathered}$$\n",
    "for $t \\in [0, 1]$ with $\\Delta t = 0.1$. "
   ]
  },
  {
   "cell_type": "code",
   "execution_count": null,
   "metadata": {},
   "outputs": [],
   "source": [
    "# Define parameters\n",
    "x0 = 1\n",
    "y0 = 1\n",
    "dt = 0.01\n",
    "ts = np.arange(0, 1, dt)\n",
    "num_steps = len(ts) - 1\n",
    "\n",
    "# Define storage vectors for x(t) and y(t)\n",
    "x_euler = np.zeros(len(ts))\n",
    "y_euler = np.zeros(len(ts))\n",
    "\n",
    "# Approximate x(t) and y(t) using explicit euler and fill in the storage vectors\n",
    "# TODO implement Euler method here\n",
    "\n",
    "# Plot the results\n",
    "plot_solution(ts, x_euler, y_euler, labels = (\"x(t)\", \"y(t)\"))"
   ]
  },
  {
   "attachments": {},
   "cell_type": "markdown",
   "metadata": {},
   "source": [
    "### Exercise 3: Stability of Explicit Euler\n",
    "Simulate the following:\n",
    "$$\\begin{gathered}\n",
    "\\frac{d y(t)}{dt} = -20y(t) \\\\\n",
    "y(0) = 1\n",
    "\\end{gathered}$$\n",
    "for $t \\in [0, 1]$ with $\\Delta t = 0.1$. Let's compare with the analytical solution as well."
   ]
  },
  {
   "cell_type": "code",
   "execution_count": null,
   "metadata": {},
   "outputs": [],
   "source": [
    "# Define parameters\n",
    "y0 = 1\n",
    "dt = 0.1\n",
    "ts = np.arange(0, 1, dt)\n",
    "num_steps = len(ts) - 1\n",
    "\n",
    "# Define storage vectors for y(t)\n",
    "y_euler = np.zeros(len(ts))\n",
    "\n",
    "# Define the analytical solution of y(t) for each t in ts\n",
    "ys = # TODO put analytic values here\n",
    "\n",
    "# Do explicit euler and fill y_euler\n",
    "# TODO implement Euler method here\n",
    "\n",
    "# Plot the solution \n",
    "plot_solution(ts, ys, y_euler, labels = (\"Exact\", \"Explicit Euler\"))"
   ]
  },
  {
   "attachments": {},
   "cell_type": "markdown",
   "metadata": {},
   "source": [
    "### Exercise 4: Stability with Implicit Euler\n",
    "Redo Exercise 3 using implicit Euler.\n",
    "\n",
    "Here we will need to solve a nonlinear equation. For a general equation $g(y) = 0$ this can be accomplished in python via the syntax:\n",
    "```python\n",
    "# Define residual function that populates a vector (the resdiuals of each equation) and uses variables y \n",
    "def residual(y):\n",
    "    return [y[0]^2] # let g(y) = y^2\n",
    "end\n",
    "y_opt = fsolve(residual, [0.0])[0] # here [0.0] is the initial guess\n",
    "```"
   ]
  },
  {
   "cell_type": "code",
   "execution_count": null,
   "metadata": {},
   "outputs": [],
   "source": [
    "# Define parameters\n",
    "y0 = 1\n",
    "dt = 0.1\n",
    "ts = np.arange(0, 1, dt)\n",
    "num_steps = len(ts) - 1\n",
    "\n",
    "# Define storage vectors for y(t)\n",
    "y_euler = np.zeros(len(ts))\n",
    "\n",
    "# Define the analytic solution for each t in ts\n",
    "ys = # TODO put analytic values here\n",
    "\n",
    "# Do explicit euler and fill y_euler\n",
    "# TODO implement Euler method here\n",
    "\n",
    "# Plot the solution \n",
    "plot_solution(ts, ys, y_euler, labels = (\"Exact\", \"Implicit Euler\"))"
   ]
  },
  {
   "attachments": {},
   "cell_type": "markdown",
   "metadata": {},
   "source": [
    "## Exercise 5: Simulate a System of ODEs using Implicit Euler\n",
    "Repeat Exercise 4, but now use implicit Euler."
   ]
  },
  {
   "cell_type": "code",
   "execution_count": null,
   "metadata": {},
   "outputs": [],
   "source": [
    "# Define parameters\n",
    "x0 = 1\n",
    "y0 = 1\n",
    "dt = 0.01\n",
    "ts = np.arange(0, 1, dt)\n",
    "num_steps = len(ts) - 1\n",
    "\n",
    "# Define storage vectors for x(t) and y(t)\n",
    "x_euler = np.zeros(len(ts))\n",
    "y_euler = np.zeros(len(ts))\n",
    "\n",
    "# Approximate x(t) and y(t) using explicit euler and fill in the storage vectors\n",
    "# TODO implement Euler method here\n",
    "\n",
    "# Plot the results\n",
    "plot_solution(ts, x_euler, y_euler, labels = (\"x(t)\", \"y(t)\"))"
   ]
  },
  {
   "attachments": {},
   "cell_type": "markdown",
   "metadata": {},
   "source": [
    "## Exercise 6: Simulate Reaction Network in Batch Reactor\n",
    "Simulate the response of the reaction system:\n",
    "$$\\begin{gathered}\n",
    "\\text{A} \\rightleftharpoons \\text{B} \\\\\n",
    "\\text{A} \\rightleftharpoons \\text{C}\n",
    "\\end{gathered}$$\n",
    "for $t \\in [0, 1]$ using implicit Euler. The ODEs are given by:\n",
    "$$\\begin{aligned}\n",
    "&\\frac{d \\textbf{c}(t)}{dt} = \\gamma \\textbf{r}(\\textbf{c}, t) \\\\\n",
    "&\\textbf{c}(0) = c_{i, 0}\n",
    "\\end{aligned}$$\n",
    "where we have:\n",
    "$$\\textbf{r}(\\textbf{c}, t) = \\textbf{k}^T(t)\\textbf{c}(t)$$\n",
    "and we have:\n",
    "$$k_{ij}(t) = A_{ij} \\exp\\Bigg(\\frac{-E_{a,ij}}{RT(t)}\\Bigg)$$\n",
    "The needed parameters are given below."
   ]
  },
  {
   "cell_type": "code",
   "execution_count": null,
   "metadata": {},
   "outputs": [],
   "source": [
    "# Define the parameters\n",
    "R = 1.987\n",
    "A = np.array([[3.6362e6, 190.6879], [-2.5212e16, 0], [0, -8.7409e24]])\n",
    "Ea = np.array([[10000., 5000.], [25000., 0], [0., 40000.]])\n",
    "gamma = np.array([[-1, -1], [1, 0], [0, 1]])\n",
    "c0 = np.array([1., 0., 0.])\n",
    "dt = 0.1 # TODO put value here\n",
    "ts = np.arange(0, 1, dt)\n",
    "num_steps = len(ts) - 1\n",
    "Ts = np.ones(len(ts)) * 325.\n",
    "Ts[Ts < 0.5] = 333\n",
    "\n",
    "# Define collection array c_euler\n",
    "c_euler = np.zeros((len(ts), 3)) # time by cs\n",
    "\n",
    "# Implement explicit Euler and fill c\n",
    "# TODO implement Euler method here\n",
    "\n",
    "#  Plot the solution\n",
    "plot_solution(ts, c_euler[:, 0], c_euler[:, 1], c_euler[:, 2], labels = (\"c1(t)\", \"c2(t)\", \"c3(t)\"))"
   ]
  }
 ],
 "metadata": {
  "kernelspec": {
   "display_name": "base",
   "language": "python",
   "name": "python3"
  },
  "language_info": {
   "codemirror_mode": {
    "name": "ipython",
    "version": 3
   },
   "file_extension": ".py",
   "mimetype": "text/x-python",
   "name": "python",
   "nbconvert_exporter": "python",
   "pygments_lexer": "ipython3",
   "version": "3.9.7"
  },
  "orig_nbformat": 4,
  "vscode": {
   "interpreter": {
    "hash": "8d689450f2d38e0e8f630e8a92d7c9c51deb0f64dc8e967a759d71fbd476c3a7"
   }
  }
 },
 "nbformat": 4,
 "nbformat_minor": 2
}
